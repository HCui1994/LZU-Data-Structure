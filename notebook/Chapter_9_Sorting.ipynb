{
 "cells": [
  {
   "cell_type": "markdown",
   "metadata": {},
   "source": [
    "# Chapter 9 排序\n",
    "\n",
    "(1) 常见的排序算法：\n",
    "    - 插入排序：\n",
    "        - 直接插入排序\n",
    "        - 希尔排序\n",
    "    - 选择排序\n",
    "        - 简单选择排序\n",
    "        - 堆排序\n",
    "    - 交换排序\n",
    "        - 冒泡排序\n",
    "        - 快速排序\n",
    "    - 归并排序\n",
    "    - 基数排序\n",
    "    \n",
    "\n",
    "(2) 排序的稳定性：  \n",
    "    在排序状态下，假设排序前 $<r_i^\\prime, r_j^\\prime>$ 之间已有序 $<r_i, r_j>$，排序后该序关系不变，则称排序过程是稳定的。"
   ]
  },
  {
   "cell_type": "markdown",
   "metadata": {},
   "source": [
    "----\n",
    "## 插入排序\n",
    "\n",
    "### 直接插入排序\n",
    "    每轮将第 i 个元素插入到前 i - 1 个元素之中  \n",
    "    循环不变量：前 i - 1 个元素是排好序的\n",
    "- 插入准备：```x = R[i]```\n",
    "- 找到插入位置\n",
    "- 归位"
   ]
  },
  {
   "cell_type": "code",
   "execution_count": 35,
   "metadata": {},
   "outputs": [
    {
     "name": "stdout",
     "output_type": "stream",
     "text": [
      "[1, 2, 3, 4, 5]\n"
     ]
    }
   ],
   "source": [
    "def insertion_sort(arr): \n",
    "    # 原始模型\n",
    "    for i in range(1, len(arr)):\n",
    "        x = arr[i]\n",
    "        j = i - 1\n",
    "        while j >= 0 and x < arr[j]:\n",
    "            arr[j + 1] = arr[j]\n",
    "            j -= 1\n",
    "        arr[j + 1] = x\n",
    "\n",
    "arr = [3,5,4,2,1]\n",
    "insertion_sort(arr)\n",
    "print(arr)"
   ]
  },
  {
   "cell_type": "markdown",
   "metadata": {},
   "source": [
    "算法分析：\n",
    "- 稳定算法\n",
    "- $T(n) \\in O(n^2)$\n",
    "- 比较次数：\n",
    "  下界，$n - 1$，arr 数组已排好序  \n",
    "  上界，$\\Sigma_{i=1}^{n}i = \\frac{1}{2}n^2$，arr 数组完全逆序  \n",
    "  平均：$\\Sigma_{i=1}^{n}\\frac{1}{2}i = \\frac{1}{4}n^2$\n",
    "- 移动次数：  \n",
    "  下界，$2(n - 1)$   \n",
    "  上界，$2\\Sigma_{i=1}^{n}i = n^2$  \n",
    "  平均：$2\\Sigma_{i=1}^{n}\\frac{1}{2}i = \\frac{1}{2}n^2$"
   ]
  },
  {
   "cell_type": "markdown",
   "metadata": {},
   "source": [
    "### 改进算法：二分插入排序\n",
    "    \n",
    "    在寻找第 i 个插入位置时，采用二分策略，改善了比较，未改善移动"
   ]
  },
  {
   "cell_type": "code",
   "execution_count": 36,
   "metadata": {},
   "outputs": [
    {
     "name": "stdout",
     "output_type": "stream",
     "text": [
      "[1, 2, 3, 4, 5]\n"
     ]
    }
   ],
   "source": [
    "def bisect(arr, low, high, target):\n",
    "    while low < high:\n",
    "        mid = low + (high - low) // 2\n",
    "        if arr[mid] > target:  # 找到比 target 大的第一个元素，为插入位置\n",
    "            high = mid\n",
    "        else:\n",
    "            low = mid + 1\n",
    "    return low\n",
    "\n",
    "def insertion_sort_opt(arr):\n",
    "    for i in range(1, len(arr)):\n",
    "        x = arr[i]\n",
    "        insert_idx = bisect(arr, 0, i, x)\n",
    "        for j in range(i, insert_idx - 1, -1):\n",
    "            arr[j] = arr[j - 1]\n",
    "        arr[insert_idx] = x\n",
    "\n",
    "        \n",
    "arr = [3,5,4,2,1]\n",
    "insertion_sort_opt(arr)\n",
    "print(arr)"
   ]
  },
  {
   "cell_type": "markdown",
   "metadata": {},
   "source": [
    "### 改进算法：二路插入排序\n",
    "\n",
    "在二分排序的基础上进行改进，减少移动次数。需要借助额外辅助空间 ```D```。\n",
    "\n",
    "- 选取一个轴心元素，e.i. ```R[0]```；  \n",
    "- 以 ```D[0]``` 为依据，若 ```R[i] > D[0]```，在 ```R[:r + 1]``` 之间做二分插入排序，否则在 ```R[f:]``` 之间做二分插入排序；  \n",
    "- 直到 ```R``` 的全部元素被插入 ```D```。"
   ]
  },
  {
   "cell_type": "markdown",
   "metadata": {},
   "source": [
    "----\n",
    "## 希尔排序：缩小增量法\n",
    "\n",
    "将对原文件 F 的排序分为多个步骤\n",
    "\n",
    "    (i) 每步取一个步长 d，将 F 视为逻辑上的 d 个文件；  \n",
    "    (ii) 依据插入排序将 d 个文件分别进行排序；  \n",
    "    (iii) 缩小 d 取值；  \n",
    "    (iv) 重复进行 (ii) (iii) 直到 d = 1。\n",
    "    \n",
    "注：在步骤 (2) 中，采用插入排序原始模型，将原始模型中步长 1 改为 d 即可。\n",
    "\n",
    "> 希尔排序难以把握 T(n)，且为不稳定排序算法"
   ]
  },
  {
   "cell_type": "code",
   "execution_count": 37,
   "metadata": {},
   "outputs": [],
   "source": [
    "# def shell_sort(lists):    # 希尔排序\n",
    "#     count = len(lists)\n",
    "#     step = 2\n",
    "#     group = count / step\n",
    "#     while group > 0:\n",
    "#         for i in range(0, group):\n",
    "#             j = i + group\n",
    "#             while j < count:\n",
    "#                 k = j - group\n",
    "#                 key = lists[j]\n",
    "#                 while k >= 0:\n",
    "#                     if lists[k] > key:\n",
    "#                         lists[k + group] = lists[k]\n",
    "#                         lists[k] = key\n",
    "#                         k -= group\n",
    "#                         j += group\n",
    "#                         group /= step\n",
    "#                         return lists             \n"
   ]
  },
  {
   "cell_type": "markdown",
   "metadata": {},
   "source": [
    "----\n",
    "## 冒泡排序\n",
    "\n",
    "每趟冒泡，将最大/最小的元素向后/前推，经过 n - 1 趟冒泡，得到最终结果"
   ]
  },
  {
   "cell_type": "code",
   "execution_count": 58,
   "metadata": {},
   "outputs": [
    {
     "name": "stdout",
     "output_type": "stream",
     "text": [
      "[1, 2, 3, 4, 5]\n"
     ]
    }
   ],
   "source": [
    "def bubble_sort(arr):\n",
    "    n = len(arr)\n",
    "    for i in range(n):\n",
    "        flag = True\n",
    "        for j in range(1, n - i):\n",
    "            if arr[j] < arr[j - 1]:\n",
    "                arr[j], arr[j - 1] = arr[j - 1], arr[j]\n",
    "                flag = False\n",
    "        if flag:\n",
    "            return\n",
    "                \n",
    "                \n",
    "arr = [3,5,4,1,2]\n",
    "bubble_sort(arr)\n",
    "print(arr)"
   ]
  },
  {
   "cell_type": "markdown",
   "metadata": {},
   "source": [
    "----\n",
    "## 堆排序\n",
    "\n",
    "### 堆定义\n",
    "- 堆：设 L 为长度为 n 的表，其元素满足 $L(i) <= L(2i), L(i) <= L(2i + 1)$  \n",
    "- 称 $L(1)$ 为堆顶；  \n",
    "- 特性：堆顶为全局最大/最小元素；  "
   ]
  },
  {
   "cell_type": "code",
   "execution_count": 39,
   "metadata": {},
   "outputs": [
    {
     "name": "stdout",
     "output_type": "stream",
     "text": [
      "[1, 2, 3, 6, 5, 4, 7, 8, 9]\n"
     ]
    }
   ],
   "source": [
    "from util.HeapPlayground import Heap\n",
    "heap = Heap([9,8,7,6,5,4,3,2,1])\n",
    "print(heap)"
   ]
  },
  {
   "cell_type": "code",
   "execution_count": 40,
   "metadata": {},
   "outputs": [
    {
     "name": "stdout",
     "output_type": "stream",
     "text": [
      "heapify: [1, 2, 3, 6, 5, 4, 7, 8, 9]\n",
      "sorted: [1, 2, 3, 4, 5, 6, 7, 8, 9]\n"
     ]
    }
   ],
   "source": [
    "def _floatup(heap, pos):\n",
    "    parentpos = (pos - 1) // 2\n",
    "    while parentpos >= 0:\n",
    "        if heap[pos] < heap[parentpos]:\n",
    "            heap[pos], heap[parentpos] = heap[parentpos], heap[pos]\n",
    "            pos, parentpos = parentpos, (parentpos - 1) // 2\n",
    "            continue\n",
    "        break\n",
    "        \n",
    "def _sinkdown(heap, pos, endpos):\n",
    "    while pos <= (endpos - 1) // 2:\n",
    "        leftchild, rightchild = pos * 2 + 1, pos * 2 + 2\n",
    "        if rightchild > endpos or heap[leftchild] < heap[rightchild]:\n",
    "            minchild = leftchild\n",
    "        else:\n",
    "            minchild = rightchild\n",
    "        if heap[minchild] < heap[pos]:\n",
    "            heap[minchild], heap[pos] = heap[pos], heap[minchild]\n",
    "            pos = minchild\n",
    "            continue\n",
    "        break\n",
    "        \n",
    "def heappush(heap, item):\n",
    "    heap.append(item)\n",
    "    _floatup(heap, len(heap) - 1)\n",
    "    \n",
    "def heappop(heap):\n",
    "    heap[0], heap[len(heap) - 1] = heap[len(heap) - 1], heap[0]\n",
    "    value = heap.pop()\n",
    "    _sinkdown(heap, 0, len(heap) - 1)\n",
    "    \n",
    "def heapify(heap):\n",
    "    for pos in reversed(range(len(heap) // 2)):\n",
    "        _sinkdown(heap, pos, len(heap) - 1)\n",
    "        \n",
    "def heapsort(arr):\n",
    "    heapify(arr)\n",
    "    for inplace in range(len(arr) - 1, 0, -1):\n",
    "        endpos = inplace - 1\n",
    "        arr[0], arr[inplace] = arr[inplace], arr[0]\n",
    "        _sinkdown(arr, 0, endpos)\n",
    "    arr.reverse()\n",
    "    \n",
    "arr = [9,8,7,6,5,4,3,2,1]\n",
    "heapify(arr)\n",
    "print(\"heapify:\", arr)\n",
    "heapsort(arr)\n",
    "print(\"sorted:\", arr)"
   ]
  },
  {
   "cell_type": "markdown",
   "metadata": {},
   "source": [
    "----\n",
    "## 合并排序\n",
    "\n",
    "合并排序（或归并排序） -- 待排序文件已部分有序\n",
    "\n",
    "（伪in-place）归并排序时间复杂度 $T(n) \\in O(n^2logn)$  \n",
    "由于存在递归调用，归并排序始无法以常数级时间开销解决排序。  \n",
    "\n",
    "### 经典二路归并\n",
    "\n",
    "比较次数：$O(nlogn)$  \n",
    "移动次数：$O(n)$  \n",
    "$T(n) \\in O(nlogn)$  \n",
    "辅助空间：$O(n)$  \n",
    "运行栈开销：$O(logn)$  \n",
    "$S(n) \\in O(n)$   "
   ]
  },
  {
   "cell_type": "code",
   "execution_count": 59,
   "metadata": {},
   "outputs": [
    {
     "name": "stdout",
     "output_type": "stream",
     "text": [
      "[1, 2, 3, 4, 5, 6, 7, 8, 9]\n"
     ]
    }
   ],
   "source": [
    "# 二路归并，使用左闭右开区间，统一写法，减少bug\n",
    "\n",
    "# 使用了左闭右开区间\n",
    "\n",
    "def merge_sort(arr):\n",
    "    wingman = copy(arr)\n",
    "    low, high = 0, len(arr)\n",
    "    _partition(arr, wingman, low, high)\n",
    "    del wingman\n",
    "    \n",
    "def _ms_partition(arr, wingman, low, high):\n",
    "    if high - low > 1:\n",
    "        mid = low + (high - low) // 2\n",
    "        _ms_partition(arr, wingman, low, mid)\n",
    "        _ms_partition(arr, wingman, mid, high)\n",
    "        _merge(arr, wingman, low, mid, high)\n",
    "        \n",
    "def _merge(arr, wingman, low, mid, high):\n",
    "    i, j, k = low, mid, low\n",
    "    while i < mid and j < high:\n",
    "        if arr[i] < arr[j]:\n",
    "            wingman[k] = arr[i]\n",
    "            i += 1\n",
    "        else:\n",
    "            wingman[k] = arr[j]\n",
    "            j += 1\n",
    "        k += 1\n",
    "    if i == mid:\n",
    "        wingman[k:high] = arr[j:high]\n",
    "    else:\n",
    "        wingman[k:high] = arr[i:mid]\n",
    "    arr[low: high] = wingman[low: high]\n",
    "        \n",
    "\n",
    "arr = [9,8,7,6,5,4,3,2,1]\n",
    "merge_sort(arr)\n",
    "print(arr)"
   ]
  },
  {
   "cell_type": "markdown",
   "metadata": {},
   "source": [
    "### 多路归并（败者树）\n",
    "\n",
    "- 增大 $k$ 可以减少外存信息读写时间；\n",
    "- 但 $k$ 个归并段中选取最小的记录需要比较 $k-1$ 次；\n",
    "- 为得到 $u$ 个记录的一个有序段共需要 $(u-1)(k-1)$ 次比较；\n",
    "- 若归并趟数为 $s$ 次，那么对 $n$ 个记录的文件进行外排时，内部归并过程中进行的总的比较次数为 $s(n-1)(k-1)$；\n",
    "- 若共有 $m$ 个归并段，则 $s = log_km$；\n",
    "- 所以总的比较次数为：$\\lceil (log_km)(k-1)(n-1) \\rceil = \\lceil \\frac{log_2m}{log_2k}(k-1)(n-1)\\rceil$；\n",
    "- 上式中 $\\frac{k-1}{log_2k}$ 随 $k$ 增而增，因此内部归并时间随 $k$ 增长而增长了，抵消了外存读写减少的时间\n",
    "- 由此引出了**败者树**：tree of loser。在内部归并过程中利用败者树将 $k$ 个归并段中选取最小记录比较的次数降为 $\\lceil log_2k\\rceil$ ，使总比较次数为 $\\lceil log_2m(n-1)\\rceil$，与 $k$ 无关。\n",
    "\n",
    "####  败者树\n",
    "\n",
    "> 败者食尘！"
   ]
  },
  {
   "cell_type": "markdown",
   "metadata": {},
   "source": [
    "----\n",
    "## 快速排序（分区交换排序）\n",
    "\n",
    "- 在等待排序的 n 个元素中，选取任意一个 r，作为周新元素。  \n",
    "- 以 r 为标准，将剩余 n - 1 个元素分为两组：\n",
    "    - 所有元素都小于 r；  \n",
    "    - 所有元素都大于等于 r。\n",
    "- 将元素 r 置于两组元素之间。\n",
    "\n",
    "称以上步骤为一趟快速排序。\n",
    "\n",
    "**partition subsequence 描述**： \n",
    "1. 设置两个变量 i，j，排序开始的时候：i = 0，j = n，（左闭右开）；  \n",
    "2. 以第一个元素作为关键数据，key = A[0]；  \n",
    "3. 从 j 开始向前搜索，找到第一个小于 key 的值 A[j]，将 A[j] A[i] 互换；  \n",
    "4. 从 i 开始向后搜索，找到第一个大于 key 的值 A[i]，将 A[j] A[i] 互换；  \n",
    "5. 重复步骤 3，4，直到 i == j。\n",
    "6. 此时 i 即为 partition point，将 pivot 赋给 A[i]，返回 i。\n",
    "\n",
    "\n",
    "**此版本 quicksort 请使用全闭区间，不要用左闭右开区间，极为鬼畜**"
   ]
  },
  {
   "cell_type": "code",
   "execution_count": 69,
   "metadata": {},
   "outputs": [
    {
     "name": "stdout",
     "output_type": "stream",
     "text": [
      "[1, 2, 3, 4, 5, 6, 7, 8, 9]\n"
     ]
    }
   ],
   "source": [
    "# quicksort 全闭区间\n",
    "\n",
    "def quick_sort(arr):\n",
    "    low, high = 0, len(arr) - 1\n",
    "    _quick_sort(arr, low, high)\n",
    "\n",
    "def _quick_sort(arr, low, high):\n",
    "    if not arr or low < 0:\n",
    "        return\n",
    "    if low < high:\n",
    "        mid = _qs_partition(arr, low, high)\n",
    "        _quick_sort(arr, low, mid - 1)\n",
    "        _quick_sort(arr, mid + 1, high)\n",
    "\n",
    "        \n",
    "def _qs_partition(arr, low, high):\n",
    "    pivot = arr[low]\n",
    "    while low < high:\n",
    "        while low < high and arr[high] >= pivot:\n",
    "            high -= 1\n",
    "        if low < high:\n",
    "            arr[low] = arr[high]\n",
    "            low += 1\n",
    "        while low < high and arr[low] <= pivot:\n",
    "            low += 1\n",
    "        if low < high:\n",
    "            arr[high] = arr[low]\n",
    "            high -= 1\n",
    "    arr[low] = pivot\n",
    "    return low\n",
    "\n",
    "\n",
    "arr = [9,8,7,6,5,4,3,2,1]\n",
    "quick_sort(arr)\n",
    "print(arr)"
   ]
  },
  {
   "cell_type": "markdown",
   "metadata": {},
   "source": [
    "### 注：左闭右开区间的优势\n",
    "\n",
    "1. 需要取中间元素时，```mid = low + (high - low) // 2```。  \n",
    "    如果区间元素的个数是奇数个，那么 mid 永远是指向中间的元素；  \n",
    "    如果区间元素是偶数个，那么mid永远指向后半段区间的首元素；  \n",
    "    这样做在二分查找等一些算法的实现上特别有优势。  \n",
    "\n",
    "2. 方便迭代器快速的进行终止判别；  \n",
    "    使用左闭右开的区间，迭代终止的条件是 ```low == high```。\n",
    "    \n",
    "3. 快速统计区间元素的个数，```n = high - low``` 即为元素的个数。\n",
    "\n",
    "对于特殊情况，只有一个或者两个元素的区间（这一般发生在二分之类的算法快要终止的时候），也有更好的效果。\n",
    "\n",
    "- 在 quick_sort 中，**不需要取中间元素**，**不需要统计区间个数**，判别迭代中止也不同于二分查找过程中的判别方式。使用左闭右开区间反而使得代码不清晰。"
   ]
  },
  {
   "cell_type": "markdown",
   "metadata": {},
   "source": [
    "### 一个更简洁的快速排序\n",
    "\n",
    "在寻找 pivot 位置的过程中，仅对小于 pivot 的值进行操作\n",
    "\n",
    "**在 partition 过程中使用了for循环迭代，没有循环嵌套**\n",
    "\n",
    "**采用了左闭右开区间**"
   ]
  },
  {
   "cell_type": "code",
   "execution_count": 75,
   "metadata": {},
   "outputs": [
    {
     "name": "stdout",
     "output_type": "stream",
     "text": [
      "[1, 2, 3, 4, 5, 6, 7, 8, 9]\n"
     ]
    }
   ],
   "source": [
    "# 使用左闭右开区间\n",
    "\n",
    "def quick_sort(arr):\n",
    "    low, high = 0, len(arr)\n",
    "    _quick_sort(arr, low, high)\n",
    "\n",
    "def _quick_sort(arr, low, high):\n",
    "    if high - low > 1:\n",
    "        mid = _partition2(arr, low, high)\n",
    "        _quick_sort(arr, low, mid)\n",
    "        _quick_sort(arr, mid + 1, high)\n",
    "\n",
    "def _partition2(arr, low, high):\n",
    "    pivot = arr[low]\n",
    "    j = low\n",
    "    for i in range(low + 1, high):\n",
    "        if arr[i] < pivot: # 将所有小于 pivot 的元素从左侧堆砌\n",
    "            j += 1\n",
    "            arr[j], arr[i] = arr[i], arr[j]\n",
    "    # 此时，arr[:j + 1] 都小于 pivot, arr[j + 1] 都大于 pivot\n",
    "    # pivot 仍然为 arr[low]\n",
    "    arr[low], arr[j] = arr[j], arr[low]\n",
    "    return j\n",
    "\n",
    "\n",
    "arr = [9,8,7,6,5,4,3,2,1]\n",
    "quick_sort(arr)\n",
    "print(arr)"
   ]
  },
  {
   "cell_type": "markdown",
   "metadata": {},
   "source": [
    "### 改进：三路快速排序\n",
    "\n"
   ]
  },
  {
   "cell_type": "markdown",
   "metadata": {},
   "source": [
    "---- \n",
    "## 基数排序\n",
    "\n"
   ]
  }
 ],
 "metadata": {
  "kernelspec": {
   "display_name": "Python 3",
   "language": "python",
   "name": "python3"
  },
  "language_info": {
   "codemirror_mode": {
    "name": "ipython",
    "version": 3
   },
   "file_extension": ".py",
   "mimetype": "text/x-python",
   "name": "python",
   "nbconvert_exporter": "python",
   "pygments_lexer": "ipython3",
   "version": "3.6.7"
  }
 },
 "nbformat": 4,
 "nbformat_minor": 2
}
