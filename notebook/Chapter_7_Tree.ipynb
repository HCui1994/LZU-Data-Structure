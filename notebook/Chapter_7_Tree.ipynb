{
 "cells": [
  {
   "cell_type": "markdown",
   "metadata": {},
   "source": [
    "# Chapter 7 树"
   ]
  },
  {
   "cell_type": "markdown",
   "metadata": {},
   "source": [
    "## Concept\n",
    "\n",
    "- 与线性表的差异：每一个元素有唯一的直接前驱，但可有多个直接后继。\n",
    "\n",
    "- 基本定义：树是满足如下性质的节点**非空有限集**  \n",
    "    (1) 有且仅有一个根节点；  \n",
    "    (2) 除根节点，其余节点分为 m(>0) 个不相交的集合。$T_1, T_2, ..., T_m$，均为树，且为相对根节点的子树。\n",
    "   \n",
    "- 有序树：若树 $T$ 中子树 $T_1, T_2, ..., T_m$ 的相对次序是重要的，则称为有向有序树。\n",
    "\n",
    "- 森林：零或多棵不相交的树的集合\n",
    "\n",
    "- 节点度：子树的个数（出度）  \n",
    "  - 终端节点：度为 0 的节点  \n",
    "  - 非终端节点：度不为 0 的节点（内部节点）\n",
    " \n",
    "- 树度：树中节点度的最大值\n",
    "\n",
    "- 父节点，子节点：$<k, k^\\prime>$ 存在前驱后继关系\n",
    "\n",
    "- 兄弟节点：\n",
    "\n",
    "- 边："
   ]
  },
  {
   "cell_type": "markdown",
   "metadata": {},
   "source": [
    "## 二叉树"
   ]
  },
  {
   "cell_type": "markdown",
   "metadata": {},
   "source": [
    "### 二叉树遍历\n",
    "\n",
    "- 遍历：对于给定的数据结构，系统地访问数据结构中的每个节点，且每个节点仅访问一次的过程\n",
    "\n",
    "\n",
    "- 二叉树遍历：  \n",
    "  (1) 层次策略：自上而下，自左至右  \n",
    "  (2) 深度策略：根据递归，按优先级遍历\n",
    "  "
   ]
  },
  {
   "cell_type": "code",
   "execution_count": null,
   "metadata": {},
   "outputs": [],
   "source": []
  }
 ],
 "metadata": {
  "kernelspec": {
   "display_name": "Python 3",
   "language": "python",
   "name": "python3"
  },
  "language_info": {
   "codemirror_mode": {
    "name": "ipython",
    "version": 3
   },
   "file_extension": ".py",
   "mimetype": "text/x-python",
   "name": "python",
   "nbconvert_exporter": "python",
   "pygments_lexer": "ipython3",
   "version": "3.6.7"
  }
 },
 "nbformat": 4,
 "nbformat_minor": 2
}
