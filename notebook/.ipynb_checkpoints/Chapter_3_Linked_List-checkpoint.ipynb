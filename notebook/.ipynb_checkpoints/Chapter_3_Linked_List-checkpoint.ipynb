{
 "cells": [
  {
   "cell_type": "markdown",
   "metadata": {},
   "source": [
    "## 线性表的向量表示"
   ]
  },
  {
   "cell_type": "markdown",
   "metadata": {},
   "source": [
    "### 在线性表第 i 个元素前插入新的元素 b，n 为表长度。\n",
    "\n",
    "$S(n) \\in O(1)$  \n",
    "$T(n) = O(n - i) \\in O(n)$"
   ]
  },
  {
   "cell_type": "code",
   "execution_count": 71,
   "metadata": {},
   "outputs": [
    {
     "name": "stdout",
     "output_type": "stream",
     "text": [
      "([0, 1, 2, 3, 4, 999, 5, 6, 7, 8, 9], 11)\n"
     ]
    }
   ],
   "source": [
    "def insert_list(arr, val, i, n):\n",
    "    if i < 0 or i >= n:\n",
    "        raise Exception(\"invalid i\")\n",
    "    if n == 2 ** 32 - 1:\n",
    "        raise Exception(\"list already at max length\")\n",
    "    arr += ['#']\n",
    "    n += 1\n",
    "    for j in range(n - 2, i - 1, -1):\n",
    "        arr[j + 1] = arr[j]\n",
    "    arr[j] = val\n",
    "    return arr, n\n",
    "\n",
    "print(insert_list([0,1,2,3,4,5,6,7,8,9], 999, 5, 10))"
   ]
  },
  {
   "cell_type": "markdown",
   "metadata": {},
   "source": [
    "## 线性表的链表表示"
   ]
  },
  {
   "cell_type": "code",
   "execution_count": 72,
   "metadata": {},
   "outputs": [],
   "source": [
    "class ListNode(object):\n",
    "    def __init__(self, x, next=None):\n",
    "        self.val, self.next = x, next"
   ]
  },
  {
   "cell_type": "code",
   "execution_count": 73,
   "metadata": {},
   "outputs": [],
   "source": [
    "class LinkedList(object):\n",
    "    def __init__(self, nodes):\n",
    "        dummy_head = ListNode(\"dummy head\")\n",
    "        curr = dummy_head\n",
    "        for node in nodes:\n",
    "            curr.next = ListNode(node)\n",
    "            curr = curr.next\n",
    "        self.head = dummy_head.next\n",
    "    \n",
    "    def display(self):\n",
    "        if not self.head:\n",
    "            print(\"empty linked list\")\n",
    "            return\n",
    "        curr = self.head\n",
    "        while curr:\n",
    "            print(curr.val, \"-> \" if curr.next else \"\", end=\"\")\n",
    "            curr = curr.next\n",
    "        print(\"\")\n",
    "        \n",
    "    def get_head(self):\n",
    "        return self.head"
   ]
  },
  {
   "cell_type": "markdown",
   "metadata": {},
   "source": [
    "### 在链表中插入数据元素\n",
    "\n",
    "def：将数据元素 b 插入表 H 中第一个数据元素 a 的节点之前\n",
    "\n",
    "\n",
    "steps:  \n",
    "(1) 为 b 开辟新的数据空间 <code>new ListNode(b);</code>   \n",
    "(2) 以数据元素 a 为依据，寻找插入位置。注意循环条件 <code>while *P.next != nil</code>.  \n",
    "(3) 根据当前节点 P，插入新节点。\n",
    "\n",
    "$S(n) \\in O(1)$  \n",
    "$T(n) \\in O(k)$"
   ]
  },
  {
   "cell_type": "code",
   "execution_count": 75,
   "metadata": {},
   "outputs": [
    {
     "name": "stdout",
     "output_type": "stream",
     "text": [
      "1 -> 2 -> 3 -> 4 -> 5 -> 6 -> 7 -> 8 -> 9 \n",
      "1 -> 2 -> 3 -> 4 -> 999 -> 5 -> 6 -> 7 -> 8 -> 9 \n",
      "1 -> 2 -> 3 -> 4 -> 999 -> 5 -> 6 -> 7 -> 8 -> 9 -> 500 \n"
     ]
    }
   ],
   "source": [
    "def insert_linked_list(head: ListNode, a: int, b: int):\n",
    "    \"\"\"\n",
    "    在值为 a 的元素节点前插入值为 b 的元素节点\n",
    "    \"\"\"\n",
    "    new_node = ListNode(b)\n",
    "    if not head:\n",
    "        head = new_node\n",
    "        return\n",
    "    if head.val == a:\n",
    "        new_node.next, head = head, new_node\n",
    "        return\n",
    "    curr = head\n",
    "    while curr.next and curr.val != a:\n",
    "        prev = curr\n",
    "        curr = curr.next\n",
    "    if curr.val == a:  # 找到节点 a\n",
    "        prev.next = new_node\n",
    "        new_node.next = curr\n",
    "    else:  # 未找到节点 a，在链表末尾插入\n",
    "        curr.next = new_node\n",
    "\n",
    "        \n",
    "linked_list = LinkedList([1,2,3,4,5,6,7,8,9])\n",
    "linked_list.display()\n",
    "head = linked_list.get_head()\n",
    "insert_linked_list(head, 5, 999)  # insert 999 before 5\n",
    "linked_list.display()\n",
    "insert_linked_list(head, 100, 500)\n",
    "linked_list.display()"
   ]
  },
  {
   "cell_type": "markdown",
   "metadata": {},
   "source": [
    "### 删除链表中的元素\n",
    "def：在表中删除第一个数据元素为 a 的节点\n",
    "\n",
    "- 增加一个 dummy head，优化异常处理"
   ]
  },
  {
   "cell_type": "code",
   "execution_count": 76,
   "metadata": {},
   "outputs": [],
   "source": [
    "class LinkedListDummy(object):\n",
    "    def __init__(self, nodes):\n",
    "        dummy_head = ListNode(\"dummy\")\n",
    "        curr = dummy_head\n",
    "        for node in nodes:\n",
    "            curr.next = ListNode(node)\n",
    "            curr = curr.next\n",
    "        self.head = dummy_head  # 不再是 self.head = dummy_head.next\n",
    "    \n",
    "    def display(self):\n",
    "        if not self.head:\n",
    "            print(\"empty linked list\")\n",
    "            return\n",
    "        curr = self.head\n",
    "        while curr:\n",
    "            print(curr.val, \"-> \" if curr.next else \"\", end=\"\")\n",
    "            curr = curr.next\n",
    "        print(\"\")\n",
    "        \n",
    "    def get_head(self):\n",
    "        return self.head"
   ]
  },
  {
   "cell_type": "code",
   "execution_count": 85,
   "metadata": {},
   "outputs": [
    {
     "name": "stdout",
     "output_type": "stream",
     "text": [
      "dummy -> 1 -> 2 -> 3 -> 4 -> 5 -> 6 -> 7 -> 8 -> 9 \n",
      "dummy -> 1 -> 2 -> 3 -> 4 -> 6 -> 7 -> 8 -> 9 \n",
      "dummy -> 2 -> 3 -> 4 -> 6 -> 7 -> 8 -> 9 \n"
     ]
    }
   ],
   "source": [
    "def delete_node(dummy_head: ListNode, a: int):\n",
    "    prev, curr = dummy_head, dummy_head.next\n",
    "    while curr.next and curr.val != a:\n",
    "        prev, curr = curr, curr.next\n",
    "    if curr.val == a:  # 找到了节点 a\n",
    "        prev.next = curr.next\n",
    "    # else: ... 未找到，不作任何处理\n",
    "    \n",
    "linked_list = LinkedListDummy([1,2,3,4,5,6,7,8,9])\n",
    "linked_list.display()\n",
    "head = linked_list.get_head()\n",
    "delete_node(head, 5)\n",
    "linked_list.display()\n",
    "delete_node(head, 1)\n",
    "linked_list.display()"
   ]
  },
  {
   "cell_type": "markdown",
   "metadata": {},
   "source": [
    "### 带表头节点的循环单链表表示\n",
    "- 不再需要异常处理\n",
    "- 不再需要对空指针 nil 处理\n",
    "- 优化了一般过程中循环判断条件：<code> while curr.val != a </code>"
   ]
  },
  {
   "cell_type": "code",
   "execution_count": 83,
   "metadata": {},
   "outputs": [
    {
     "name": "stdout",
     "output_type": "stream",
     "text": [
      "dummy -> 1 -> 2 -> 3 -> 4 -> 5 -> \n",
      "dummy -> \n"
     ]
    }
   ],
   "source": [
    "class LinkedListCyclicDummy(object):\n",
    "    def __init__(self, nodes):\n",
    "        dummy_head = ListNode(\"dummy\")\n",
    "        curr = dummy_head\n",
    "        for node in nodes:\n",
    "            curr.next = ListNode(node)\n",
    "            curr = curr.next\n",
    "        self.head = dummy_head  # 不再是 self.head = dummy_head.next\n",
    "        curr.next = dummy_head  # 形成循环\n",
    "    \n",
    "    def display(self):\n",
    "        if not self.head:\n",
    "            print(\"empty linked list\")\n",
    "            return\n",
    "        curr = self.head\n",
    "        while curr.next != self.head:  # 判断条件始终为 curr.next，防止越界\n",
    "            print(curr.val, \"-> \", end=\"\")\n",
    "            curr = curr.next\n",
    "        print(curr.val, \"-> \", end=\"\")  # 当前 curr 指向最后一个节点\n",
    "        print(\"\")\n",
    "        \n",
    "    def get_head(self):\n",
    "        return self.head\n",
    "    \n",
    "linked_list = LinkedListCyclicDummy([1,2,3,4,5])\n",
    "linked_list.display()\n",
    "linked_list = LinkedList([])\n",
    "linked_list.display()"
   ]
  },
  {
   "cell_type": "markdown",
   "metadata": {},
   "source": [
    "### 优化后结构的插入与删除"
   ]
  },
  {
   "cell_type": "code",
   "execution_count": 104,
   "metadata": {},
   "outputs": [
    {
     "name": "stdout",
     "output_type": "stream",
     "text": [
      "dummy -> 1 -> 2 -> 3 -> 4 -> 5 -> \n",
      "dummy -> 1 -> 2 -> 3 -> 4 -> 999 -> 5 -> \n",
      "dummy -> 1 -> 2 -> 3 -> 4 -> 999 -> 5 -> 300 -> \n",
      "dummy -> 1 -> 2 -> 3 -> 4 -> 5 -> 300 -> \n"
     ]
    }
   ],
   "source": [
    "def insert_cyclic_linked_list(dummy_head: ListNode, a: int, b: int):\n",
    "    new_node = ListNode(b)\n",
    "    dummy_head.val = a  # 将dummy head 赋值为 a，在循环一轮而未找到 a 的情况下，形成终止条件\n",
    "    prev, curr = dummy_head, dummy_head.next \n",
    "    while curr.val != a:  # 新的循环条件，无需异常处理\n",
    "        prev, curr = curr, curr.next\n",
    "    prev.next, new_node.next = new_node, curr\n",
    "    dummy_head.val = \"dummy\"  # 还原 dummy head\n",
    "    \n",
    "def delete_cyclic_linked_list(dummy_head: ListNode, a: int):\n",
    "    prev, curr = dummy_head, dummy_head.next\n",
    "    while curr.val != a and curr.next.val != \"dummy\":\n",
    "        prev, curr = curr, curr.next\n",
    "    if curr.val == a:  # 找到 a 节点\n",
    "        prev.next = curr.next\n",
    "    # else: ...  未找到 a 节点，不作任何处理\n",
    "    \n",
    "linked_list = LinkedListCyclicDummy([1,2,3,4,5])\n",
    "linked_list.display()\n",
    "head = linked_list.get_head()\n",
    "insert_cyclic_linked_list(head, 5, 999)\n",
    "linked_list.display()\n",
    "insert_cyclic_linked_list(head, 1000, 300)\n",
    "linked_list.display()\n",
    "delete_cyclic_linked_list(head, 999)\n",
    "linked_list.display()"
   ]
  },
  {
   "cell_type": "markdown",
   "metadata": {},
   "source": [
    "### 带表头节点的双向循环链表表示\n",
    "\n",
    "- 优点：逆向查找  \n",
    "- 缺点：更高的空间代价"
   ]
  },
  {
   "cell_type": "code",
   "execution_count": 105,
   "metadata": {},
   "outputs": [],
   "source": [
    "class DoubleListNode(object):\n",
    "    def __init__(self, x, left=None, right=None):\n",
    "        self.val, self.left, self.right = x, left, right"
   ]
  },
  {
   "cell_type": "code",
   "execution_count": 110,
   "metadata": {},
   "outputs": [
    {
     "name": "stdout",
     "output_type": "stream",
     "text": [
      "dummy <-> 1 <-> 2 <-> 3 <-> 4 <-> 5 <-> \n",
      "dummy <-> \n"
     ]
    }
   ],
   "source": [
    "class DoubleLinkedListDummy(object):\n",
    "    def __init__(self, nodes):\n",
    "        dummy_head = DoubleListNode(\"dummy\")\n",
    "        node = dummy_head\n",
    "        for x in nodes:\n",
    "            new_node = DoubleListNode(x)\n",
    "            node.right, new_node.left = new_node, node\n",
    "            node = node.right\n",
    "        node.right, dummy_head.left = dummy_head, node\n",
    "        self.head = dummy_head\n",
    "    \n",
    "    def display(self):\n",
    "        if not self.head:\n",
    "            print(\"empty linked list\")\n",
    "            return\n",
    "        curr = self.head\n",
    "        while curr.right != self.head:  # 判断条件始终为 curr.next，防止越界\n",
    "            print(curr.val, \"<-> \", end=\"\")\n",
    "            curr = curr.right\n",
    "        print(curr.val, \"<-> \", end=\"\")  # 当前 curr 指向最后一个节点\n",
    "        print(\"\")\n",
    "        \n",
    "    def get_head(self):\n",
    "        return self.head\n",
    "    \n",
    "linked_list = DoubleLinkedListDummy([1,2,3,4,5])\n",
    "linked_list.display()\n",
    "linked_list = DoubleLinkedListDummy([])\n",
    "linked_list.display()"
   ]
  },
  {
   "cell_type": "markdown",
   "metadata": {},
   "source": [
    "### 将数据元素 b 插入双向循环链表  H 中第一个元素 a 的节点前"
   ]
  },
  {
   "cell_type": "code",
   "execution_count": 112,
   "metadata": {},
   "outputs": [
    {
     "name": "stdout",
     "output_type": "stream",
     "text": [
      "dummy <-> 1 <-> 2 <-> 3 <-> 4 <-> 5 <-> \n",
      "dummy <-> 1 <-> 2 <-> 3 <-> 999 <-> 4 <-> 5 <-> \n"
     ]
    }
   ],
   "source": [
    "def insert_double_cyclic_linked_list(dummy_head: DoubleListNode, a: int, b: int):\n",
    "    new_node = DoubleListNode(b)\n",
    "    dummy_head.val = a\n",
    "    prev, curr = dummy_head, dummy_head.right\n",
    "    while curr.val != a:\n",
    "        prev, curr = curr, curr.right\n",
    "    new_node.right, curr.left = curr, new_node  # 先接管后半段，防止丢失\n",
    "    prev.right, new_node.left = new_node, prev  # 再链接前半段\n",
    "    dummy_head.val = \"dummy\"\n",
    "\n",
    "linked_list = DoubleLinkedListDummy([1,2,3,4,5])\n",
    "linked_list.display()\n",
    "head = linked_list.get_head()\n",
    "insert_double_cyclic_linked_list(head, 4, 999)\n",
    "linked_list.display()"
   ]
  },
  {
   "cell_type": "code",
   "execution_count": null,
   "metadata": {},
   "outputs": [],
   "source": []
  }
 ],
 "metadata": {
  "kernelspec": {
   "display_name": "Python 3",
   "language": "python",
   "name": "python3"
  },
  "language_info": {
   "codemirror_mode": {
    "name": "ipython",
    "version": 3
   },
   "file_extension": ".py",
   "mimetype": "text/x-python",
   "name": "python",
   "nbconvert_exporter": "python",
   "pygments_lexer": "ipython3",
   "version": "3.6.7"
  }
 },
 "nbformat": 4,
 "nbformat_minor": 2
}
