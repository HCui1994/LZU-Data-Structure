{
 "cells": [
  {
   "cell_type": "markdown",
   "metadata": {},
   "source": [
    "# Chapter X 红黑树"
   ]
  },
  {
   "cell_type": "markdown",
   "metadata": {},
   "source": [
    "## 0. Recapture 二叉搜索树"
   ]
  },
  {
   "cell_type": "markdown",
   "metadata": {},
   "source": [
    "### 0.1 BST 查找\n",
    "\n",
    "- 一棵有n个结点的平衡二叉树的高度为$O(log(n))$,远胜过$O(n)$，所以树在需要搜索优化的地方用得比较多。\n",
    "\n",
    "- 树如果不平衡，则容易退化成链表。"
   ]
  },
  {
   "cell_type": "markdown",
   "metadata": {},
   "source": [
    "### 0.2 BST 定义\n",
    "\n",
    "二叉搜索树又叫二叉排序数，如果树不为空的话，对树上的任意一个结点x，具有如下性质：\n",
    "\n",
    "- 如果x的左子树存在的话，则x左子树上所有的结点的值都小于x；  \n",
    "- 如果x的右子树存在的话，则x右子树上所有的结点的值都大于x。\n",
    "\n",
    ">二叉搜索树不允许有重复值。以常用的Map举例，如果插入重复的值，要么覆盖原来的值，要么插入失败。"
   ]
  },
  {
   "cell_type": "markdown",
   "metadata": {},
   "source": [
    "### 0.3 BST 节点操作"
   ]
  },
  {
   "cell_type": "code",
   "execution_count": 20,
   "metadata": {},
   "outputs": [],
   "source": [
    "from util.RedBlackTree import RedBlackTree\n",
    "from util.RedBlackTree import RBNode\n",
    "from util.RedBlackTree import nil"
   ]
  },
  {
   "cell_type": "markdown",
   "metadata": {},
   "source": [
    "#### 0.3.1 查找\n",
    "\n",
    "从根开始依次比较，设当前结点为 x，待查找的数据为 data；  \n",
    "如果 x.data == data，则找到了，返回结果；  \n",
    "如果 data < x.data，则继续查找 x.left，否则继续查找 x.right"
   ]
  },
  {
   "cell_type": "code",
   "execution_count": 21,
   "metadata": {},
   "outputs": [
    {
     "name": "stdout",
     "output_type": "stream",
     "text": [
      "original bst\n",
      "\n",
      "│           ┌── 9\n",
      "│       ┌── 8\n",
      "│       │   └── 7\n",
      "│   ┌── 5\n",
      "│   │   └── 4\n",
      "└── 3\n",
      "    │   ┌── 2\n",
      "    └── 1\n",
      "        └── 0\n",
      "<util.RedBlackTree.RBNode object at 0x105ab55f8>\n"
     ]
    }
   ],
   "source": [
    "def search(bst, target):\n",
    "    node = bst.root\n",
    "    while node != nil:\n",
    "        if node.val == target:\n",
    "            return node\n",
    "        if node.val < target:\n",
    "            node = node.right\n",
    "        else:\n",
    "            node = node.left\n",
    "    print(\"not found\")\n",
    "    return node\n",
    "\n",
    "\n",
    "rbtree = RedBlackTree([3,1,0,2,5,4,8,7,9])\n",
    "print(\"original bst\\n\")\n",
    "rbtree.pretty_print_tree()\n",
    "print(search(rbtree, 8))"
   ]
  },
  {
   "cell_type": "markdown",
   "metadata": {},
   "source": [
    "#### 0.3.2 插入\n",
    "- 如果root不存在，则将插入的结点设为根，插入结束；  \n",
    "- 否则，从根开始依次比较，设p为待插入结点的父结点，设当前结点为x，待插入的数据为data; \n",
    "  若data < x.data，则需要插入到左边的某个位置：p = x; x = x.left;  \n",
    "  否则插入到右边的某个位置：p = x; x = x.right;  \n",
    "- 当x == nil 时，将待插入的结点挂在p下面即可。"
   ]
  },
  {
   "cell_type": "code",
   "execution_count": 28,
   "metadata": {},
   "outputs": [
    {
     "name": "stdout",
     "output_type": "stream",
     "text": [
      "original bst\n",
      "\n",
      "│           ┌── 9\n",
      "│       ┌── 7\n",
      "│   ┌── 5\n",
      "│   │   └── 4\n",
      "└── 3\n",
      "    │   ┌── 2\n",
      "    └── 1\n",
      "        └── 0\n",
      "\n",
      "insert node valued 8\n",
      "\n",
      "│           ┌── 9\n",
      "│           │   └── 8\n",
      "│       ┌── 7\n",
      "│   ┌── 5\n",
      "│   │   └── 4\n",
      "└── 3\n",
      "    │   ┌── 2\n",
      "    └── 1\n",
      "        └── 0\n"
     ]
    }
   ],
   "source": [
    "def insert(bst, node):\n",
    "    new_node = RBNode(node) if type(node) == int else node\n",
    "    if bst.root == nil:\n",
    "        bst.root = new_node\n",
    "        return\n",
    "    node = bst.root\n",
    "    while node != nil:\n",
    "        parent = node\n",
    "        if new_node.val < node.val:\n",
    "            node = node.left\n",
    "        else:\n",
    "            node = node.right\n",
    "    if new_node.val < parent.val:\n",
    "        parent.left = new_node\n",
    "    else:\n",
    "        parent.right = new_node\n",
    "    new_node.parent = parent\n",
    "        \n",
    "rbtree = RedBlackTree([3,1,0,2,5,4,7,9])\n",
    "print(\"original bst\\n\")\n",
    "rbtree.pretty_print_tree()\n",
    "insert(rbtree, 8)\n",
    "print(\"\\ninsert node valued 8\\n\")\n",
    "rbtree.pretty_print_tree()"
   ]
  },
  {
   "cell_type": "markdown",
   "metadata": {},
   "source": [
    "#### 0.3.3 删除\n",
    "\n",
    "- 如果L不存在，则用R替代x即可；  \n",
    "- 如果R不存在，则用L替代x即可；  \n",
    "- 如果L与R都存在，需要找到最接近x的且比它大的结点（即后继）来替代x。\n",
    "  另外特别注意，x 的左右结点还需要在原来的地方。"
   ]
  },
  {
   "cell_type": "code",
   "execution_count": 23,
   "metadata": {},
   "outputs": [
    {
     "name": "stdout",
     "output_type": "stream",
     "text": [
      "│           ┌── 9\n",
      "│       ┌── 8\n",
      "│   ┌── 7\n",
      "│   │   └── 5\n",
      "│   │       └── 4\n",
      "└── 3\n",
      "    │   ┌── 2\n",
      "    └── 1\n",
      "        └── 0\n",
      "\n",
      "delete node 5\n",
      "\n",
      "│           ┌── 9\n",
      "│       ┌── 8\n",
      "│   ┌── 7\n",
      "│   │   └── 4\n",
      "└── 3\n",
      "    │   ┌── 2\n",
      "    └── 1\n",
      "        └── 0\n",
      "\n",
      "delete node 8\n",
      "\n",
      "│       ┌── 9\n",
      "│   ┌── 7\n",
      "│   │   └── 4\n",
      "└── 3\n",
      "    │   ┌── 2\n",
      "    └── 1\n",
      "        └── 0\n",
      "\n",
      "delete node 3\n",
      "\n",
      "│       ┌── 9\n",
      "│   ┌── 7\n",
      "└── 4\n",
      "    │   ┌── 2\n",
      "    └── 1\n",
      "        └── 0\n"
     ]
    }
   ],
   "source": [
    "def delete(bst, node):\n",
    "    \n",
    "    def replace(old_node, new_node):\n",
    "        # replace() 仅负责将new_node挂载在old_node的父节点之下\n",
    "        # 不处理new_node，old_node的子节点\n",
    "        if old_node.parent == nil:\n",
    "            bst.root = new_node\n",
    "        else:\n",
    "            if old_node == old_node.parent.left:\n",
    "                old_node.parent.left = new_node\n",
    "            else:\n",
    "                old_node.parent.right = new_node\n",
    "        if new_node != nil:\n",
    "            new_node.parent = old_node.parent\n",
    "    \n",
    "    if type(node) == int:\n",
    "        node = bst.search(node)\n",
    "        \n",
    "    if node == nil:  # 无此节点\n",
    "        return False\n",
    "    # 删除节点不同时具有两个子节点，删除后仅需重新挂载，不需要调整子节点\n",
    "    if node.left == nil:  \n",
    "        replace(node, node.right)\n",
    "        return True\n",
    "    if node.right == nil:\n",
    "        replace(node, node.left)\n",
    "        return True\n",
    "    \n",
    "    successor = bst.get_successor(node)\n",
    "    # 后继节点必然在删除节点的右子树中（右子树最左节点）\n",
    "    # 可以直接接管删除节点的左子树\n",
    "    successor.left = node.left\n",
    "    node.left.parent = successor\n",
    "    \n",
    "    if node.right != successor:\n",
    "        # 若删除节点与后继节点非前驱后继关系，先摘出后继节点\n",
    "        # 后继节点必定没有左子树，因其为最左节点\n",
    "        # 直接由其父节点接管右子树\n",
    "        replace(successor, successor.right)\n",
    "        node.right.parent = successor\n",
    "        successor.right = node.right\n",
    "    \n",
    "    replace(node, successor)\n",
    "    return True\n",
    "            \n",
    "\n",
    "rbtree = RedBlackTree([3,1,0,2,7,8,9,5,4])\n",
    "rbtree.pretty_print_tree()\n",
    "print(\"\\ndelete node 5\\n\")\n",
    "delete(rbtree, 5)\n",
    "rbtree.pretty_print_tree()\n",
    "print(\"\\ndelete node 8\\n\")\n",
    "delete(rbtree, 8)\n",
    "rbtree.pretty_print_tree()\n",
    "print(\"\\ndelete node 3\\n\")\n",
    "delete(rbtree, 3)\n",
    "rbtree.pretty_print_tree()"
   ]
  },
  {
   "cell_type": "markdown",
   "metadata": {},
   "source": [
    "## 1. 红黑树"
   ]
  },
  {
   "cell_type": "markdown",
   "metadata": {},
   "source": [
    "### 1.1 定义\n",
    "\n",
    "- 红黑树是一种平衡搜索树。其源于二叉搜索树，通过额外引入的5条规则来维持二叉树的平衡，但并不要求绝对平衡；\n",
    "\n",
    "- 红黑树特性（五规则）：  \n",
    "  - 每个节点不是红色就是黑色；  \n",
    "  - 根节点是黑色；  \n",
    "  - 每个叶节点都是黑色；  \n",
    "  - 不允许出现连续的红色节点（若某个节点为红色，其两个子节点必为黑色）；  \n",
    "  - 从根节点到每个叶节点的路径上，黑色节点的数量相等。\n",
    "\n",
    "- 三规则（属性 1 和属性 3 作为不成文的规则，不许在代码中特别维护）\n",
    "  - 不允许两个连续的红色结点；  \n",
    "  - 从根到每个叶子结点的路径上，黑色结点的个数相等；  \n",
    "  - 根是黑色的。"
   ]
  },
  {
   "cell_type": "markdown",
   "metadata": {},
   "source": [
    "### 1.2 树的旋转\n",
    "\n",
    ">旋转的目的：调整某一侧的黑色节点使得两侧黑色节点数目平衡\n",
    "\n",
    "<img src=\"imgs/rb_rotate_1.jpg\">\n",
    "\n",
    "将右侧 **节点1** 左旋，得到左侧的子树\n",
    "\n",
    "- 树的旋转不影响 BST 的性质；  \n",
    "- 旋转可使子树的某一侧比另一侧多一个某种颜色的节点，同时不减少另一侧该颜色节点的数量  \n",
    "  节点1 右侧比左侧多了一个黑色节点，经过旋转，黑色节点上升，节点1 右侧黑色节点数量减少1，左侧黑色节点数不变；  \n",
    "- 旋转操作的实现：想象节点1和右子3，围绕蓝色的正方形中心向左（逆时针）旋转$90^\\circ$，节点3上升，节点1 下降。节点1 右子本来是节点3，由于节点3 上升，节点1 失去右子，而节点3 左子2 的位置被节点1 占有，故将节点3 左子挂在节点1 右子。"
   ]
  },
  {
   "cell_type": "code",
   "execution_count": 24,
   "metadata": {},
   "outputs": [],
   "source": [
    "from util.RedBlackTree import RedBlackTree\n",
    "from util.RedBlackTree import RBNode\n",
    "from util.RedBlackTree import nil"
   ]
  },
  {
   "cell_type": "code",
   "execution_count": 25,
   "metadata": {},
   "outputs": [],
   "source": [
    "def rotate_left(rbtree, pivot):\n",
    "    \"\"\"\n",
    "    以 pivot 为轴，进行左旋\n",
    "    左旋将轴的右子上升，轴下降\n",
    "    轴成为原右子的左子，原右子的原左子成为轴的右子\n",
    "    \"\"\"\n",
    "    pivot_parent, pivot_right = pivot.parent, pivot.right\n",
    "    pivot.right = pivot_right.left # 轴接管原右子的左子\n",
    "    if pivot.right != nil:         # 若新右子非空\n",
    "        pivot.right.parent = pivot # 建立新右子到轴的链接\n",
    "    if pivot_parent != nil:        # 若轴非根\n",
    "        if pivot == pivot_parent.left: # 原右子上升\n",
    "            pivot_parent.left = pivot_right\n",
    "        else:\n",
    "            pivot_parent.right = pivot_right\n",
    "    else:\n",
    "        rbtree.set_root(pivot_right)\n",
    "    pivot_right.parent = pivot_parent\n",
    "    pivot_right.left = pivot       # 轴下降\n",
    "    pivot.parent = pivot_right"
   ]
  },
  {
   "cell_type": "code",
   "execution_count": 26,
   "metadata": {},
   "outputs": [],
   "source": [
    "def rotate_right(rbtree, pivot):\n",
    "    \"\"\"\n",
    "    以 pivot 为轴，进行右旋\n",
    "    右旋将轴的左子上升，轴下降\n",
    "    轴成为原左子的右子，原左子的右子成为轴的左子\n",
    "    \"\"\"\n",
    "    pivot_parent, pivot_left = pivot.parent, pivot.left\n",
    "    pivot.left = pivot_left.right\n",
    "    if pivot.left != nil:\n",
    "        pivot.left.parent = pivot\n",
    "    if pivot_parent != nil:            # 若轴非根\n",
    "        if pivot == pivot_parent.left: # 原左子上升\n",
    "            pivot_parent.left = pivot_left\n",
    "        else:\n",
    "            pivot_parent.right = pivot_left\n",
    "    else:\n",
    "        rbtree.set_root(pivot_left)\n",
    "    pivot_left.parent = pivot_parent\n",
    "    pivot_left.right = pivot            # 轴下降\n",
    "    pivot.parent = pivot_left"
   ]
  },
  {
   "cell_type": "code",
   "execution_count": 27,
   "metadata": {},
   "outputs": [
    {
     "name": "stdout",
     "output_type": "stream",
     "text": [
      "original bst\n",
      "\n",
      "│           ┌── 9\n",
      "│       ┌── 8\n",
      "│       │   └── 7\n",
      "│   ┌── 5\n",
      "│   │   └── 4\n",
      "└── 3\n",
      "    │   ┌── 2\n",
      "    └── 1\n",
      "        └── 0\n",
      "\n",
      "node 3 rotate left\n",
      "\n",
      "│       ┌── 9\n",
      "│   ┌── 8\n",
      "│   │   └── 7\n",
      "└── 5\n",
      "    │   ┌── 4\n",
      "    └── 3\n",
      "        │   ┌── 2\n",
      "        └── 1\n",
      "            └── 0\n",
      "\n",
      "node 5 rotate right (recovery)\n",
      "\n",
      "│           ┌── 9\n",
      "│       ┌── 8\n",
      "│       │   └── 7\n",
      "│   ┌── 5\n",
      "│   │   └── 4\n",
      "└── 3\n",
      "    │   ┌── 2\n",
      "    └── 1\n",
      "        └── 0\n"
     ]
    }
   ],
   "source": [
    "rbtree = RedBlackTree([3,1,0,2,5,4,8,7,9])\n",
    "print(\"original bst\\n\")\n",
    "rbtree.pretty_print_tree()\n",
    "pivot = rbtree.search(3)\n",
    "print(\"\\nnode 3 rotate left\\n\")\n",
    "rotate_left(rbtree, pivot)\n",
    "rbtree.pretty_print_tree()\n",
    "pivot = rbtree.search(5)\n",
    "print(\"\\nnode 5 rotate right (recovery)\\n\")\n",
    "rotate_right(rbtree, pivot)\n",
    "rbtree.pretty_print_tree()"
   ]
  },
  {
   "cell_type": "markdown",
   "metadata": {},
   "source": [
    "<img src=\"imgs/rb_rotate_2.jpg\" width=\"80%\">\n",
    "节点3左旋 $\\downarrow$   $\\uparrow$ 节点5右旋\n",
    "<img src=\"imgs/rb_rotate_3.jpg\" width=\"80%\">"
   ]
  },
  {
   "cell_type": "markdown",
   "metadata": {},
   "source": [
    "## 2. 红黑节点增删改\n",
    "\n",
    "插入与删除操作的主逻辑与 BST 插入基本一致，但需要注意：\n",
    "\n",
    "- 当插入节点和其父节点均为红色，违反红黑树属性（不允许连续的红色节点），需要调整。共 3 种情况（对称 6 种）；\n",
    "- 当删除或替换节点时，若涉及黑色节点，导致某一侧黑色节点数目减少，违反红黑树属性（从根到每个叶子结点的路径上，黑色结点的个数相等），需要调整。共 4 种情况；"
   ]
  },
  {
   "cell_type": "markdown",
   "metadata": {},
   "source": [
    "### 2.1 插入\n",
    "\n",
    "Notation：\n",
    "- node: 插入节点\n",
    "- parent: 插入节点的父节点\n",
    "- pparent: 插入节点父节点的父节点\n",
    "- parent_sibling: 插入节点父节点的兄弟节点\n",
    "- parent_sibling_left: 插入节点父节点兄弟节点的左子\n",
    "- parent_sibling_right: 插入节点父节点兄弟节点的右子\n",
    "\n",
    "> 你爸爸的姑姑的唯一的兄弟的老婆的孩子的老婆的最大的姐姐和你是什么关系？\n",
    "\n",
    "此处讨论 <code>parent == pparent.left</code> 情况。\n",
    "\n",
    "在插入节点违反属性的情况下：\n",
    "\n",
    "1. node 红色，parent 红色，pparent 黑色，需要将 node 或 parent 置黑。  \n",
    "   只能将 parent 置黑。若 node 置黑，则红黑树蜕化为二叉搜索树，树中不再有红色节点；\n",
    "\n",
    "2. 此时 pparent 左子树比右子树多一个黑色节点，违反规则，需要减少左侧黑色节点，将 pparent 置红。\n",
    "\n",
    "3. 此时"
   ]
  },
  {
   "cell_type": "code",
   "execution_count": null,
   "metadata": {},
   "outputs": [],
   "source": []
  },
  {
   "cell_type": "code",
   "execution_count": null,
   "metadata": {},
   "outputs": [],
   "source": []
  }
 ],
 "metadata": {
  "kernelspec": {
   "display_name": "Python 3",
   "language": "python",
   "name": "python3"
  },
  "language_info": {
   "codemirror_mode": {
    "name": "ipython",
    "version": 3
   },
   "file_extension": ".py",
   "mimetype": "text/x-python",
   "name": "python",
   "nbconvert_exporter": "python",
   "pygments_lexer": "ipython3",
   "version": "3.6.7"
  }
 },
 "nbformat": 4,
 "nbformat_minor": 2
}
