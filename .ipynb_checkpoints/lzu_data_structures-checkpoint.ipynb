{
 "cells": [
  {
   "cell_type": "markdown",
   "metadata": {},
   "source": [
    "# 兰州大学数据结构"
   ]
  },
  {
   "cell_type": "markdown",
   "metadata": {},
   "source": [
    "## Chapter 1：Overview"
   ]
  },
  {
   "cell_type": "markdown",
   "metadata": {},
   "source": [
    "> 软件行业遵循流程而非彰显个性  \n",
    "> 知识早晚会变成垃圾，而不变的是标准\n",
    "\n",
    "* 数据的逻辑关系：存储关系，运算关系\n",
    "\n",
    "* 数据的逻辑关系：\n",
    "    - 一对一 - List 线性\n",
    "    - 一对多 - Tree 非线性\n",
    "    - 多对多 - Graph 非线性\n",
    "    \n",
    "* 数据的存储关系（物理关系）：\n",
    "    - 顺序结构 -- 按照连续的地址空间顺序存放，用于存放线性数据  \n",
    "        **$顺序 \\neq 等长$**\n",
    "    - 链式结构 -- 给数据附加指针项，反映节点之间的关系。  \n",
    "        $存储密度=\\frac{数据本身存储量}{整个结构存储量}$\n",
    "    - 索引结构 -- 索引区 + 数据区\n",
    "    - 散列结构 -- 根据数据值，以一定函数决定数据的存储地址\n",
    "    \n",
    "* 数据的运算关系：\n",
    "    运算关系定义在逻辑结构之上，而实现其必须依赖存储结构。\n",
    "\n",
    "| 方面 | 数据表示 | 数据处理 |\n",
    "| --- | --- | --- |\n",
    "| 抽象 | 逻辑结构 | 基本运算 |\n",
    "| 实现 | 存储结构 | 算法 |\n",
    "| 评价 | 结构比较 | 算法分析 |\n",
    "\n",
    "> 不会设计程序？先用纸和笔解决问题试试"
   ]
  },
  {
   "cell_type": "markdown",
   "metadata": {},
   "source": [
    "* 数据结构的基本衡量标准\n",
    "    - 作为问题的基本衡量标准：\n",
    "        1. 计算需要的存储空间\n",
    "        2. 计算时间效率\n",
    "    - 以”阶“区分，而非具体数值\n",
    "\n",
    "> 设计是搭建框架的过程，而非完善语言\n",
    "\n",
    "* 算法\n",
    "    - 有穷性\n",
    "    - 确定性（基础，具体，无二义）\n",
    "    - 可行性（有效性）\n",
    "\n",
    "* 程序\n",
    "    算法在计算机程序设计语言中的实现\n",
    "\n",
    "* 一个“优秀的”算法\n",
    "    - 正确性\n",
    "    - 易读性\n",
    "    - 健壮性（异常处理）\n",
    "    - 高效性\n",
    "    \n",
    "* 时间复杂度\n",
    "    - O(n):"
   ]
  },
  {
   "cell_type": "markdown",
   "metadata": {},
   "source": [
    "## Chapter 3：线性表\n",
    "\n",
    "### Topics\n",
    "    1. 线性表，链表，静态结构\n",
    "    2. 向量存储基本方法\n",
    "    3. 线性表在向量组织下的基本运算\n",
    "    4. 线性表在链表\n",
    "    \n",
    "### 静态与动态数据类型\n",
    "    1. static：编译时即已经分配了既定的内存\n",
    "    2. dynamic：加载程序时，才对内存进行分配\n",
    "    \n",
    "### 线性表：$n(>=0)$ 个元素的有限序列\n",
    "除了首尾元素，每个元素有且仅有一个直接前驱，直接后继\n",
    "    \n"
   ]
  },
  {
   "cell_type": "code",
   "execution_count": null,
   "metadata": {},
   "outputs": [],
   "source": []
  }
 ],
 "metadata": {
  "kernelspec": {
   "display_name": "Python 3",
   "language": "python",
   "name": "python3"
  },
  "language_info": {
   "codemirror_mode": {
    "name": "ipython",
    "version": 3
   },
   "file_extension": ".py",
   "mimetype": "text/x-python",
   "name": "python",
   "nbconvert_exporter": "python",
   "pygments_lexer": "ipython3",
   "version": "3.6.7"
  }
 },
 "nbformat": 4,
 "nbformat_minor": 2
}
